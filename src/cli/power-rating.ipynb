{
 "cells": [
  {
   "cell_type": "code",
   "execution_count": 16,
   "metadata": {},
   "outputs": [],
   "source": [
    "import data as d\n",
    "import numpy as np\n",
    "from tra_analysis import Analysis as an"
   ]
  },
  {
   "cell_type": "code",
   "execution_count": 17,
   "metadata": {},
   "outputs": [],
   "source": [
    "# average offense power is the average of all points scored\n",
    "def calc_aop(offensive_power):\n",
    "\treturn an.basic_stats(offensive_power)[\"mean\"]\n",
    "\n",
    "# average defensive power is the average of all points blocked\n",
    "def calc_adp(defensive_power):\n",
    "\treturn an.basic_stats(defensive_power)[\"mean\"]\n",
    "\n",
    "def calc_match_offense(team_offense_contrib, match_score):\n",
    "\treturn team_offense_contrib * match_score\n",
    "\n",
    "# idea: a team's defense is the number of points that the opponents expected to score but didnt (opponent expected - opponent actual), times some contribution\n",
    "# \t\twe will call this value points blocked\n",
    "# \t\tpotential problem: a multipurpose bot (high scorer, high defender) plays with a poor scorer, will increase the poor scorer's defensive rating by more than it should\n",
    "#\t\tpotential problem: ADR runaway, if (a + b + c) == 1, then (1 - a) + (1 - b) + (1 - c) == 2, thus the weighting on ADR will be too proportionally high\n",
    "def calc_match_defense(team_defense_contrib, opponent_match_score, opponent_total_aop):\n",
    "\treturn team_defense_contrib * (opponent_total_aop - opponent_match_score) \n",
    "\n",
    "def calc_offense_contrib(team_points, match_score):\n",
    "\treturn team_points / match_score\n",
    "\n",
    "def calc_defense_contrib(team_points, match_score):\n",
    "\treturn 1 - (team_points / match_score)\n",
    "\n",
    "def calc_points(objectives_scored, objectives_weight):\n",
    "\tsum = 0\n",
    "\tfor key in objectives_scored.keys():\n",
    "\t\tsum += objectives_weight[key] * objectives_scored[key]\n",
    "\treturn sum\n",
    "\n",
    "def calc_power_rating(objectives_weight, objectives_scored, alliance_score, opponent_score, opponent_aor):\n",
    "\tteam_score = calc_points(objectives_scored, objectives_weight)\n",
    "\n",
    "\toffense_contrib = calc_offense_contrib(team_score, alliance_score)\n",
    "\tdefense_contrib = calc_defense_contrib(team_score, alliance_score)\n",
    "\n",
    "\toffensive_power = calc_match_offense(offense_contrib, alliance_score)\n",
    "\tdefensive_power = calc_match_defense(defense_contrib, opponent_score, opponent_aor)\n",
    "\n",
    "\treturn offensive_power, defensive_power"
   ]
  },
  {
   "cell_type": "code",
   "execution_count": 18,
   "metadata": {},
   "outputs": [
    {
     "name": "stdout",
     "output_type": "stream",
     "text": [
      "53.0,37.908496732026144\n"
     ]
    }
   ],
   "source": [
    "objectives_weight = {\n",
    "\t\"auto_line\": 5,\n",
    "\t\"auto_bottom\": 2,\n",
    "\t\"auto_outer\": 4,\n",
    "\t\"auto_inner\": 6,\n",
    "\t\"teleop_bottom\": 1,\n",
    "\t\"teleop_outer\": 2,\n",
    "\t\"teleop_inner\": 3,\n",
    "\t\"rotation\": 15,\n",
    "\t\"position\": 20,\n",
    "\t\"hang\":25,\n",
    "\t\"park\":5,\n",
    "\t\"level\":15,\n",
    "}\n",
    "\n",
    "sample_scored = {\n",
    "\t\"auto_line\": 1,\n",
    "\t\"auto_bottom\": 3,\n",
    "\t\"auto_outer\": 0,\n",
    "\t\"auto_inner\": 0,\n",
    "\t\"teleop_bottom\": 0,\n",
    "\t\"teleop_outer\": 8,\n",
    "\t\"teleop_inner\": 2,\n",
    "\t\"rotation\": 1,\n",
    "\t\"position\": 0,\n",
    "\t\"hang\": 0,\n",
    "\t\"park\": 1,\n",
    "\t\"level\": 0,\n",
    "}\n",
    "\n",
    "alliance_score = 153\n",
    "opponent_score = 122\n",
    "opponent_aor = 87 + 52 + 41\n",
    "\n",
    "offensive_power, defensive_power = calc_power_rating(objectives_weight, sample_scored, alliance_score, opponent_score, opponent_aor)\n",
    "\n",
    "print(str(offensive_power) + \",\" + str(defensive_power))"
   ]
  },
  {
   "cell_type": "code",
   "execution_count": 8,
   "metadata": {},
   "outputs": [],
   "source": []
  },
  {
   "cell_type": "code",
   "execution_count": null,
   "metadata": {},
   "outputs": [],
   "source": []
  }
 ],
 "metadata": {
  "interpreter": {
   "hash": "767d51c1340bd893661ea55ea3124f6de3c7a262a8b4abca0554b478b1e2ff90"
  },
  "kernelspec": {
   "display_name": "Python 3.8.5 64-bit",
   "name": "python3"
  },
  "language_info": {
   "codemirror_mode": {
    "name": "ipython",
    "version": 3
   },
   "file_extension": ".py",
   "mimetype": "text/x-python",
   "name": "python",
   "nbconvert_exporter": "python",
   "pygments_lexer": "ipython3",
   "version": "3.8.5"
  },
  "orig_nbformat": 4
 },
 "nbformat": 4,
 "nbformat_minor": 2
}
