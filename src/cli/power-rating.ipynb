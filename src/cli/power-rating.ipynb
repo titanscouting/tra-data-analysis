{
 "cells": [
  {
   "cell_type": "code",
   "execution_count": 28,
   "source": [
    "import data as d\n",
    "import numpy as np\n",
    "from tra_analysis import Analysis as an"
   ],
   "outputs": [],
   "metadata": {}
  },
  {
   "cell_type": "code",
   "execution_count": 29,
   "source": [
    "# average offense power is the average of all points scored\n",
    "def calc_aop(offensive_power):\n",
    "\treturn an.basic_stats(offensive_power)[\"mean\"]\n",
    "\n",
    "# average defensive power is the average of all points blocked\n",
    "def calc_adp(defensive_power):\n",
    "\treturn an.basic_stats(defensive_power)[\"mean\"]\n",
    "\n",
    "def calc_match_offense(team_offense_contrib, match_score):\n",
    "\treturn team_offense_contrib * match_score\n",
    "\n",
    "# idea: a team's defense is the number of points that the opponents expected to score but didnt (opponent expected - opponent actual), times some contribution\n",
    "# \t\twe will call this value points blocked\n",
    "# \t\tpotential problem: a multipurpose bot (high scorer, high defender) plays with a poor scorer, will increase the poor scorer's defensive rating by more than it should\n",
    "#\t\tpotential problem: ADR runaway, if (a + b + c) == 1, then (1 - a) + (1 - b) + (1 - c) == 2, thus the weighting on ADR will be too proportionally high\n",
    "def calc_match_defense(team_defense_contrib, opponent_match_score, opponent_total_aop):\n",
    "\treturn team_defense_contrib * (opponent_total_aop - opponent_match_score) \n",
    "\n",
    "def calc_offense_contrib(team_points, match_score):\n",
    "\treturn team_points / match_score\n",
    "\n",
    "def calc_defense_contrib(team_points, match_score):\n",
    "\treturn 1 - (team_points / match_score)\n",
    "\n",
    "def calc_points(objectives_scored, objectives_weight):\n",
    "\tsum = 0\n",
    "\tfor key in objectives_scored.keys():\n",
    "\t\tsum += objectives_weight[key] * objectives_scored[key]\n",
    "\treturn sum"
   ],
   "outputs": [],
   "metadata": {}
  },
  {
   "cell_type": "code",
   "execution_count": 30,
   "source": [
    "objectives_weight = {\n",
    "\t\"auto_line\": 5,\n",
    "\t\"auto_bottom\": 2,\n",
    "\t\"auto_outer\": 4,\n",
    "\t\"auto_inner\": 6,\n",
    "\t\"teleop_bottom\": 1,\n",
    "\t\"teleop_outer\": 2,\n",
    "\t\"teleop_inner\": 3,\n",
    "\t\"rotation\": 15,\n",
    "\t\"position\": 20,\n",
    "\t\"hang\":25,\n",
    "\t\"park\":5,\n",
    "\t\"level\":15,\n",
    "}\n",
    "\n",
    "sample_scored = {\n",
    "\t\"auto_line\": 1,\n",
    "\t\"auto_bottom\": 3,\n",
    "\t\"auto_outer\": 0,\n",
    "\t\"auto_inner\": 0,\n",
    "\t\"teleop_bottom\": 0,\n",
    "\t\"teleop_outer\": 8,\n",
    "\t\"teleop_inner\": 2,\n",
    "\t\"rotation\": 1,\n",
    "\t\"position\": 0,\n",
    "\t\"hang\": 0,\n",
    "\t\"park\": 1,\n",
    "\t\"level\": 0,\n",
    "}\n",
    "\n",
    "a = calc_points(sample_scored, objectives_weight)\n",
    "b = calc_offense_contrib(a, 153)\n",
    "calc_match_offense(b, 153)"
   ],
   "outputs": [
    {
     "output_type": "execute_result",
     "data": {
      "text/plain": [
       "53.0"
      ]
     },
     "metadata": {},
     "execution_count": 30
    }
   ],
   "metadata": {}
  },
  {
   "cell_type": "code",
   "execution_count": null,
   "source": [],
   "outputs": [],
   "metadata": {}
  }
 ],
 "metadata": {
  "orig_nbformat": 4,
  "language_info": {
   "name": "python",
   "version": "3.8.5",
   "mimetype": "text/x-python",
   "codemirror_mode": {
    "name": "ipython",
    "version": 3
   },
   "pygments_lexer": "ipython3",
   "nbconvert_exporter": "python",
   "file_extension": ".py"
  },
  "kernelspec": {
   "name": "python3",
   "display_name": "Python 3.8.5 64-bit"
  },
  "interpreter": {
   "hash": "767d51c1340bd893661ea55ea3124f6de3c7a262a8b4abca0554b478b1e2ff90"
  }
 },
 "nbformat": 4,
 "nbformat_minor": 2
}