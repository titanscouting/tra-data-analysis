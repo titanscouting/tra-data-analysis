{
 "cells": [
  {
   "cell_type": "code",
   "execution_count": 1,
   "metadata": {},
   "outputs": [],
   "source": [
    "class C1:\n",
    "\tval = 0\n",
    "\tdef __init__(self, i):\n",
    "\t\tself.val = i\n",
    "\n",
    "class C2:\n",
    "\tval = 0\n",
    "\tdef __init__(self, i):\n",
    "\t\tself.val = 2*i\n",
    "\n",
    "class C3:\n",
    "\tval = 0\n",
    "\tdef __init__(self, i):\n",
    "\t\tself.val = 3*i"
   ]
  },
  {
   "cell_type": "code",
   "execution_count": 3,
   "metadata": {},
   "outputs": [
    {
     "data": {
      "text/plain": [
       "[<__main__.C1 at 0x7fa84827afd0>,\n",
       " <__main__.C2 at 0x7fa84827ae80>,\n",
       " <__main__.C3 at 0x7fa8482020d0>]"
      ]
     },
     "execution_count": 3,
     "metadata": {},
     "output_type": "execute_result"
    }
   ],
   "source": [
    "classes = [C1, C2, C3]\n",
    "initialized = []\n",
    "for c in classes:\n",
    "\tinitialized.append(c(10))\n",
    "initialized"
   ]
  },
  {
   "cell_type": "code",
   "execution_count": 3,
   "metadata": {},
   "outputs": [],
   "source": [
    "import module\n",
    "module_references = {\"match\": module.Match}\n",
    "module_initialized = []\n",
    "for m in [\"match\"]:\n",
    "\tmodule_initialized.append(module_references[m](\"\", \"\", \"\", 0, []))"
   ]
  },
  {
   "cell_type": "code",
   "execution_count": 4,
   "metadata": {},
   "outputs": [
    {
     "data": {
      "text/plain": [
       "[<module.Match at 0x7f0e47c45ee0>]"
      ]
     },
     "execution_count": 4,
     "metadata": {},
     "output_type": "execute_result"
    }
   ],
   "source": [
    "module_initialized"
   ]
  },
  {
   "cell_type": "code",
   "execution_count": null,
   "metadata": {},
   "outputs": [],
   "source": []
  }
 ],
 "metadata": {
  "interpreter": {
   "hash": "e7370f93d1d0cde622a1f8e1c04877d8463912d04d973331ad4851f04de6915a"
  },
  "kernelspec": {
   "display_name": "Python 3.8.5 64-bit",
   "name": "python3"
  },
  "language_info": {
   "codemirror_mode": {
    "name": "ipython",
    "version": 3
   },
   "file_extension": ".py",
   "mimetype": "text/x-python",
   "name": "python",
   "nbconvert_exporter": "python",
   "pygments_lexer": "ipython3",
   "version": "3.8.5"
  },
  "orig_nbformat": 4
 },
 "nbformat": 4,
 "nbformat_minor": 2
}
